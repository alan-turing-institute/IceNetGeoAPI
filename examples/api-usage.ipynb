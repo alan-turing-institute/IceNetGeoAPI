{
 "cells": [
  {
   "cell_type": "markdown",
   "id": "b934ccab",
   "metadata": {},
   "source": [
    "This notebook will explain how to retrieve `IceNet` data from the public API and display it locally.\n",
    "\n",
    "The forecasts are made on the central part (432x432) of the 720x720 [EASE2 5km grid](https://nsidc.org/ease/ease-grid-projection-gt) projections.\n",
    "This means that the northern hemisphere uses the [EPSG:6931](https://epsg.io/6931) projection and the southern hemisphere uses [EPSG:6932](https://epsg.io/6932)."
   ]
  },
  {
   "cell_type": "code",
   "execution_count": 1,
   "id": "428ae2c1",
   "metadata": {},
   "outputs": [],
   "source": [
    "# Import required modules\n",
    "import datetime\n",
    "import requests\n",
    "import geopandas as gpd\n",
    "import matplotlib.pyplot as plt\n",
    "import pandas as pd"
   ]
  },
  {
   "cell_type": "code",
   "execution_count": 2,
   "id": "ec7ed287",
   "metadata": {},
   "outputs": [],
   "source": [
    "# Set the base URL for API requests\n",
    "api_base_url = \"https://app-icenetgeoapi-pygeoapi.azurewebsites.net/\""
   ]
  },
  {
   "cell_type": "code",
   "execution_count": 3,
   "id": "b54ea877",
   "metadata": {},
   "outputs": [
    {
     "name": "stdout",
     "output_type": "stream",
     "text": [
      "north_cells; Northern hemisphere geometric grid cells; Northern hemisphere geometric grid cells\n",
      "south_cells; Southern hemisphere geometric grid cells; Southern hemisphere geometric grid cells\n",
      "north_forecasts; Northern hemisphere sea ice concentration forecasts; Northern hemisphere sea ice concentration forecasts\n",
      "south_forecasts; Southern hemisphere sea ice concentration forecasts; Southern hemisphere sea ice concentration forecasts\n"
     ]
    }
   ],
   "source": [
    "# Find out which collections are available\n",
    "response = requests.get(f\"{api_base_url}/collections\")\n",
    "collections = response.json()[\"collections\"]\n",
    "for c in collections:\n",
    "    print(f\"{c['id']}; {c['title']}; {c['description']}\")"
   ]
  },
  {
   "cell_type": "markdown",
   "id": "4fd74070",
   "metadata": {},
   "source": [
    "We can see that there are currently four collections available\n",
    "- Northern hemisphere cells (details of the geometries of the grid)\n",
    "- Northern hemisphere forecasts (forecasted sea ice concentration from the IceNet algorithm)\n",
    "- Southern hemisphere cells (details of the geometries of the grid)\n",
    "- Southern hemisphere forecasts (forecasted sea ice concentration from the IceNet algorithm)"
   ]
  },
  {
   "cell_type": "code",
   "execution_count": 4,
   "id": "ea52331f",
   "metadata": {},
   "outputs": [
    {
     "data": {
      "text/plain": [
       "{'type': 'object',\n",
       " 'title': 'Northern hemisphere sea ice concentration forecasts',\n",
       " 'properties': {'geometry': {'$ref': 'https://geojson.org/schema/Geometry.json'},\n",
       "  'forecast_latest_id': {'title': 'forecast_latest_id', 'type': 'int8'},\n",
       "  'date_forecast_generated': {'title': 'date_forecast_generated',\n",
       "   'type': 'date'},\n",
       "  'date_forecast_for': {'title': 'date_forecast_for', 'type': 'date'},\n",
       "  'sea_ice_concentration_mean': {'title': 'sea_ice_concentration_mean',\n",
       "   'type': 'float4'},\n",
       "  'sea_ice_concentration_stddev': {'title': 'sea_ice_concentration_stddev',\n",
       "   'type': 'float4'}},\n",
       " '$schema': 'http://json-schema.org/draft/2019-09/schema',\n",
       " '$id': 'https://app-icenetgeoapi-pygeoapi.azurewebsites.net/collections/north_forecasts/queryables'}"
      ]
     },
     "execution_count": 4,
     "metadata": {},
     "output_type": "execute_result"
    }
   ],
   "source": [
    "# Find the list of queryables for northern hemisphere forecasts\n",
    "response = requests.get(f\"{api_base_url}/collections/north_forecasts/queryables\") \n",
    "response.json()"
   ]
  },
  {
   "cell_type": "markdown",
   "id": "ff6d28f3",
   "metadata": {},
   "source": [
    "and here we can see the available, query-able columns\n",
    "- `date_forecast_generated` (the date when the forecast was made)\n",
    "- `date_forecast_for` (which date the forecast was made for)\n",
    "- `sea_ice_concentration_mean` (the mean of the IceNet forecast)\n",
    "- `sea_ice_concentration_stddev` (the standard deviation of the IceNet forecast)"
   ]
  },
  {
   "cell_type": "code",
   "execution_count": 5,
   "id": "d977ca73",
   "metadata": {},
   "outputs": [],
   "source": [
    "# Get the latest available forecasts (limited to first 10 by default)\n",
    "response = requests.get(f\"{api_base_url}/collections/north_forecasts/items\") "
   ]
  },
  {
   "cell_type": "code",
   "execution_count": 6,
   "id": "85d8af89",
   "metadata": {},
   "outputs": [
    {
     "data": {
      "text/plain": [
       "[{'type': 'Feature',\n",
       "  'geometry': {'type': 'Polygon',\n",
       "   'coordinates': [[[45, 16.8228850033408],\n",
       "     [45.132936604874, 16.623695732259],\n",
       "     [45, 16.4247079225175],\n",
       "     [44.867063395126, 16.623695732259],\n",
       "     [45, 16.8228850033408]]]},\n",
       "  'properties': {'forecast_latest_id': 1,\n",
       "   'date_forecast_generated': '2022-02-12',\n",
       "   'date_forecast_for': '2022-02-13',\n",
       "   'sea_ice_concentration_mean': 0.0352753,\n",
       "   'sea_ice_concentration_stddev': 0.0705506},\n",
       "  'id': 1},\n",
       " {'type': 'Feature',\n",
       "  'geometry': {'type': 'Polygon',\n",
       "   'coordinates': [[[44.7322646612978, 17.2190997847523],\n",
       "     [44.8664436462941, 17.0213529826143],\n",
       "     [44.7335099239416, 16.8219602213448],\n",
       "     [44.5993367442078, 17.0195015207504],\n",
       "     [44.7322646612978, 17.2190997847523]]]},\n",
       "  'properties': {'forecast_latest_id': 2,\n",
       "   'date_forecast_generated': '2022-02-12',\n",
       "   'date_forecast_for': '2022-02-13',\n",
       "   'sea_ice_concentration_mean': 0.0517279,\n",
       "   'sea_ice_concentration_stddev': 0.103456},\n",
       "  'id': 2},\n",
       " {'type': 'Feature',\n",
       "  'geometry': {'type': 'Polygon',\n",
       "   'coordinates': [[[-76.7151335150978, 38.4973956936016],\n",
       "     [-76.6555490102596, 38.7405523216368],\n",
       "     [-76.4035181339024, 38.6823691338555],\n",
       "     [-76.4641436308657, 38.4394059198182],\n",
       "     [-76.7151335150978, 38.4973956936016]]]},\n",
       "  'properties': {'forecast_latest_id': 3,\n",
       "   'date_forecast_generated': '2022-02-12',\n",
       "   'date_forecast_for': '2022-02-13',\n",
       "   'sea_ice_concentration_mean': 0.195637,\n",
       "   'sea_ice_concentration_stddev': 0.391274},\n",
       "  'id': 3},\n",
       " {'type': 'Feature',\n",
       "  'geometry': {'type': 'Polygon',\n",
       "   'coordinates': [[[-76.213682011328, 38.3803372531335],\n",
       "     [-76.15202238084, 38.6231040318255],\n",
       "     [-75.9010697086037, 38.562759589187],\n",
       "     [-75.9637565320735, 38.3201922288054],\n",
       "     [-76.213682011328, 38.3803372531335]]]},\n",
       "  'properties': {'forecast_latest_id': 4,\n",
       "   'date_forecast_generated': '2022-02-12',\n",
       "   'date_forecast_for': '2022-02-13',\n",
       "   'sea_ice_concentration_mean': 0.196379,\n",
       "   'sea_ice_concentration_stddev': 0.392757},\n",
       "  'id': 4},\n",
       " {'type': 'Feature',\n",
       "  'geometry': {'type': 'Polygon',\n",
       "   'coordinates': [[[-76.9666436740862, 38.5543040718721],\n",
       "     [-76.9081069356532, 38.7976510545756],\n",
       "     [-76.6555490102596, 38.7405523216368],\n",
       "     [-76.7151335150978, 38.4973956936016],\n",
       "     [-76.9666436740862, 38.5543040718721]]]},\n",
       "  'properties': {'forecast_latest_id': 5,\n",
       "   'date_forecast_generated': '2022-02-12',\n",
       "   'date_forecast_for': '2022-02-13',\n",
       "   'sea_ice_concentration_mean': 0.196733,\n",
       "   'sea_ice_concentration_stddev': 0.393465},\n",
       "  'id': 5},\n",
       " {'type': 'Feature',\n",
       "  'geometry': {'type': 'Polygon',\n",
       "   'coordinates': [[[-77.9777233138165, 38.7710747645372],\n",
       "     [-77.9234436147242, 39.0151518278496],\n",
       "     [-77.6688605340119, 38.9624156310642],\n",
       "     [-77.7242142062211, 38.7185163138273],\n",
       "     [-77.9777233138165, 38.7710747645372]]]},\n",
       "  'properties': {'forecast_latest_id': 6,\n",
       "   'date_forecast_generated': '2022-02-12',\n",
       "   'date_forecast_for': '2022-02-13',\n",
       "   'sea_ice_concentration_mean': 0.197475,\n",
       "   'sea_ice_concentration_stddev': 0.394951},\n",
       "  'id': 6},\n",
       " {'type': 'Feature',\n",
       "  'geometry': {'type': 'Polygon',\n",
       "   'coordinates': [[[-78.2317110679794, 38.8225398239635],\n",
       "     [-78.1785116593928, 39.0667913906585],\n",
       "     [-77.9234436147242, 39.0151518278496],\n",
       "     [-77.9777233138165, 38.7710747645372],\n",
       "     [-78.2317110679794, 38.8225398239635]]]},\n",
       "  'properties': {'forecast_latest_id': 7,\n",
       "   'date_forecast_generated': '2022-02-12',\n",
       "   'date_forecast_for': '2022-02-13',\n",
       "   'sea_ice_concentration_mean': 0.197494,\n",
       "   'sea_ice_concentration_stddev': 0.394987},\n",
       "  'id': 7},\n",
       " {'type': 'Feature',\n",
       "  'geometry': {'type': 'Polygon',\n",
       "   'coordinates': [[[-77.2186660045366, 38.6101285854589],\n",
       "     [-77.1611837200992, 38.8536628259344],\n",
       "     [-76.9081069356532, 38.7976510545756],\n",
       "     [-76.9666436740862, 38.5543040718721],\n",
       "     [-77.2186660045366, 38.6101285854589]]]},\n",
       "  'properties': {'forecast_latest_id': 8,\n",
       "   'date_forecast_generated': '2022-02-12',\n",
       "   'date_forecast_for': '2022-02-13',\n",
       "   'sea_ice_concentration_mean': 0.197512,\n",
       "   'sea_ice_concentration_stddev': 0.395024},\n",
       "  'id': 8},\n",
       " {'type': 'Feature',\n",
       "  'geometry': {'type': 'Polygon',\n",
       "   'coordinates': [[[-75.4655449194599, 38.1966834066777],\n",
       "     [-75.400824847488, 38.438843136975],\n",
       "     [-75.1515479818221, 38.3752764325455],\n",
       "     [-75.2172739573843, 38.1333248354004],\n",
       "     [-75.4655449194599, 38.1966834066777]]]},\n",
       "  'properties': {'forecast_latest_id': 9,\n",
       "   'date_forecast_generated': '2022-02-12',\n",
       "   'date_forecast_for': '2022-02-13',\n",
       "   'sea_ice_concentration_mean': 0.197559,\n",
       "   'sea_ice_concentration_stddev': 0.395118},\n",
       "  'id': 9},\n",
       " {'type': 'Feature',\n",
       "  'geometry': {'type': 'Polygon',\n",
       "   'coordinates': [[[-75.9637565320735, 38.3201922288054],\n",
       "     [-75.9010697086037, 38.562759589187],\n",
       "     [-75.6506679570529, 38.5013384118102],\n",
       "     [-75.7143749534052, 38.2589734139383],\n",
       "     [-75.9637565320735, 38.3201922288054]]]},\n",
       "  'properties': {'forecast_latest_id': 10,\n",
       "   'date_forecast_generated': '2022-02-12',\n",
       "   'date_forecast_for': '2022-02-13',\n",
       "   'sea_ice_concentration_mean': 0.197576,\n",
       "   'sea_ice_concentration_stddev': 0.395152},\n",
       "  'id': 10}]"
      ]
     },
     "execution_count": 6,
     "metadata": {},
     "output_type": "execute_result"
    }
   ],
   "source": [
    "# Take a look at the available features\n",
    "response.json()[\"features\"]"
   ]
  },
  {
   "cell_type": "markdown",
   "id": "f9d0d3a2",
   "metadata": {},
   "source": [
    "We can look at forecasts made on a particular date for a particular date in the future: we'll choose two weeks from today."
   ]
  },
  {
   "cell_type": "code",
   "execution_count": 7,
   "id": "0e783d1a",
   "metadata": {},
   "outputs": [],
   "source": [
    "# Set the target\n",
    "target_date = (datetime.datetime.today() + datetime.timedelta(days=14)).date()"
   ]
  },
  {
   "cell_type": "markdown",
   "id": "a7b17bab",
   "metadata": {},
   "source": [
    "Let's look at the latest available set of forecasts (probably made today or yesterday) for this date"
   ]
  },
  {
   "cell_type": "code",
   "execution_count": 8,
   "id": "3205cb8a",
   "metadata": {},
   "outputs": [
    {
     "name": "stdout",
     "output_type": "stream",
     "text": [
      "Loaded batch of 50000 forecasts...\n",
      "Loaded batch of 39097 forecasts...\n",
      "Finished: loaded 89097 forecasts in total\n"
     ]
    }
   ],
   "source": [
    "# As Azure has a hard-coded 230s timeout we must retrieve the results in batches\n",
    "batch_size = 50000\n",
    "n_data_points = batch_size\n",
    "start_index = 0\n",
    "\n",
    "# In order to retrieve all the results we keep making requests until the API stops returning new data\n",
    "responses = []\n",
    "while n_data_points == batch_size:\n",
    "    response = requests.get(f\"{api_base_url}/collections/north_forecasts/items?date_forecast_for={target_date}&startindex={start_index}&limit={batch_size}\")\n",
    "    n_data_points = len(response.json()['features'])\n",
    "    responses.append(response)\n",
    "    start_index += batch_size\n",
    "    print(f\"Loaded batch of {n_data_points} forecasts...\")\n",
    "print(f\"Finished: loaded {sum([len(r.json()['features']) for r in responses])} forecasts in total\")"
   ]
  },
  {
   "cell_type": "markdown",
   "id": "903ad8c5",
   "metadata": {},
   "source": [
    "We have now retrieved data for all grid cells that have a non-zero forecast for sea-ice coverage.\n",
    "\n",
    "Rather than looking at the JSON directly, it is probably better to deal with a library that understands GeoJSON.\n",
    "In the rest of this example, we will use `geopandas`."
   ]
  },
  {
   "cell_type": "code",
   "execution_count": 9,
   "id": "50373d96",
   "metadata": {},
   "outputs": [
    {
     "data": {
      "text/html": [
       "<div>\n",
       "<style scoped>\n",
       "    .dataframe tbody tr th:only-of-type {\n",
       "        vertical-align: middle;\n",
       "    }\n",
       "\n",
       "    .dataframe tbody tr th {\n",
       "        vertical-align: top;\n",
       "    }\n",
       "\n",
       "    .dataframe thead th {\n",
       "        text-align: right;\n",
       "    }\n",
       "</style>\n",
       "<table border=\"1\" class=\"dataframe\">\n",
       "  <thead>\n",
       "    <tr style=\"text-align: right;\">\n",
       "      <th></th>\n",
       "      <th>geometry</th>\n",
       "      <th>forecast_latest_id</th>\n",
       "      <th>date_forecast_generated</th>\n",
       "      <th>date_forecast_for</th>\n",
       "      <th>sea_ice_concentration_mean</th>\n",
       "      <th>sea_ice_concentration_stddev</th>\n",
       "    </tr>\n",
       "  </thead>\n",
       "  <tbody>\n",
       "    <tr>\n",
       "      <th>0</th>\n",
       "      <td>POLYGON ((-117.40758 33.08863, -117.51637 33.3...</td>\n",
       "      <td>1336456</td>\n",
       "      <td>2022-02-12</td>\n",
       "      <td>2022-02-28</td>\n",
       "      <td>5.966070e-07</td>\n",
       "      <td>6.956920e-07</td>\n",
       "    </tr>\n",
       "    <tr>\n",
       "      <th>1</th>\n",
       "      <td>POLYGON ((-117.19813 33.20618, -117.30636 33.4...</td>\n",
       "      <td>1336457</td>\n",
       "      <td>2022-02-12</td>\n",
       "      <td>2022-02-28</td>\n",
       "      <td>8.117340e-07</td>\n",
       "      <td>9.469560e-07</td>\n",
       "    </tr>\n",
       "    <tr>\n",
       "      <th>2</th>\n",
       "      <td>POLYGON ((-116.98789 33.32282, -117.09555 33.5...</td>\n",
       "      <td>1336458</td>\n",
       "      <td>2022-02-12</td>\n",
       "      <td>2022-02-28</td>\n",
       "      <td>8.662310e-07</td>\n",
       "      <td>1.076740e-06</td>\n",
       "    </tr>\n",
       "    <tr>\n",
       "      <th>3</th>\n",
       "      <td>POLYGON ((-116.56505 33.55339, -116.67155 33.7...</td>\n",
       "      <td>1336459</td>\n",
       "      <td>2022-02-12</td>\n",
       "      <td>2022-02-28</td>\n",
       "      <td>9.807390e-07</td>\n",
       "      <td>1.342920e-06</td>\n",
       "    </tr>\n",
       "    <tr>\n",
       "      <th>4</th>\n",
       "      <td>POLYGON ((-116.35245 33.66731, -116.45836 33.8...</td>\n",
       "      <td>1336460</td>\n",
       "      <td>2022-02-12</td>\n",
       "      <td>2022-02-28</td>\n",
       "      <td>9.987940e-07</td>\n",
       "      <td>1.297210e-06</td>\n",
       "    </tr>\n",
       "  </tbody>\n",
       "</table>\n",
       "</div>"
      ],
      "text/plain": [
       "                                            geometry  forecast_latest_id  \\\n",
       "0  POLYGON ((-117.40758 33.08863, -117.51637 33.3...             1336456   \n",
       "1  POLYGON ((-117.19813 33.20618, -117.30636 33.4...             1336457   \n",
       "2  POLYGON ((-116.98789 33.32282, -117.09555 33.5...             1336458   \n",
       "3  POLYGON ((-116.56505 33.55339, -116.67155 33.7...             1336459   \n",
       "4  POLYGON ((-116.35245 33.66731, -116.45836 33.8...             1336460   \n",
       "\n",
       "  date_forecast_generated date_forecast_for  sea_ice_concentration_mean  \\\n",
       "0              2022-02-12        2022-02-28                5.966070e-07   \n",
       "1              2022-02-12        2022-02-28                8.117340e-07   \n",
       "2              2022-02-12        2022-02-28                8.662310e-07   \n",
       "3              2022-02-12        2022-02-28                9.807390e-07   \n",
       "4              2022-02-12        2022-02-28                9.987940e-07   \n",
       "\n",
       "   sea_ice_concentration_stddev  \n",
       "0                  6.956920e-07  \n",
       "1                  9.469560e-07  \n",
       "2                  1.076740e-06  \n",
       "3                  1.342920e-06  \n",
       "4                  1.297210e-06  "
      ]
     },
     "execution_count": 9,
     "metadata": {},
     "output_type": "execute_result"
    }
   ],
   "source": [
    "# Look at the first few rows of data\n",
    "geodata = pd.concat([gpd.GeoDataFrame.from_features(r.json(), crs=\"EPSG:4326\") for r in responses])\n",
    "geodata.head()"
   ]
  },
  {
   "cell_type": "markdown",
   "id": "100bffba",
   "metadata": {},
   "source": [
    "Let's drop the forecast ID (this is internal database bookkeeping).\n",
    "We also convert from EPSG:4326 (World Geodetic System projection) to EPSG:6931 (NSIDC EASE-Grid for the North Pole)"
   ]
  },
  {
   "cell_type": "code",
   "execution_count": 10,
   "id": "3e32f652",
   "metadata": {},
   "outputs": [
    {
     "data": {
      "text/html": [
       "<div>\n",
       "<style scoped>\n",
       "    .dataframe tbody tr th:only-of-type {\n",
       "        vertical-align: middle;\n",
       "    }\n",
       "\n",
       "    .dataframe tbody tr th {\n",
       "        vertical-align: top;\n",
       "    }\n",
       "\n",
       "    .dataframe thead th {\n",
       "        text-align: right;\n",
       "    }\n",
       "</style>\n",
       "<table border=\"1\" class=\"dataframe\">\n",
       "  <thead>\n",
       "    <tr style=\"text-align: right;\">\n",
       "      <th></th>\n",
       "      <th>geometry</th>\n",
       "      <th>date_forecast_generated</th>\n",
       "      <th>date_forecast_for</th>\n",
       "      <th>sea_ice_concentration_mean</th>\n",
       "      <th>sea_ice_concentration_stddev</th>\n",
       "    </tr>\n",
       "  </thead>\n",
       "  <tbody>\n",
       "    <tr>\n",
       "      <th>0</th>\n",
       "      <td>POLYGON ((-5400000.001 2800000.000, -5375000.0...</td>\n",
       "      <td>2022-02-12</td>\n",
       "      <td>2022-02-28</td>\n",
       "      <td>5.966070e-07</td>\n",
       "      <td>6.956920e-07</td>\n",
       "    </tr>\n",
       "    <tr>\n",
       "      <th>1</th>\n",
       "      <td>POLYGON ((-5400000.001 2775000.000, -5375000.0...</td>\n",
       "      <td>2022-02-12</td>\n",
       "      <td>2022-02-28</td>\n",
       "      <td>8.117340e-07</td>\n",
       "      <td>9.469560e-07</td>\n",
       "    </tr>\n",
       "    <tr>\n",
       "      <th>2</th>\n",
       "      <td>POLYGON ((-5400000.001 2750000.000, -5375000.0...</td>\n",
       "      <td>2022-02-12</td>\n",
       "      <td>2022-02-28</td>\n",
       "      <td>8.662310e-07</td>\n",
       "      <td>1.076740e-06</td>\n",
       "    </tr>\n",
       "    <tr>\n",
       "      <th>3</th>\n",
       "      <td>POLYGON ((-5400000.001 2700000.000, -5375000.0...</td>\n",
       "      <td>2022-02-12</td>\n",
       "      <td>2022-02-28</td>\n",
       "      <td>9.807390e-07</td>\n",
       "      <td>1.342920e-06</td>\n",
       "    </tr>\n",
       "    <tr>\n",
       "      <th>4</th>\n",
       "      <td>POLYGON ((-5400000.001 2675000.000, -5375000.0...</td>\n",
       "      <td>2022-02-12</td>\n",
       "      <td>2022-02-28</td>\n",
       "      <td>9.987940e-07</td>\n",
       "      <td>1.297210e-06</td>\n",
       "    </tr>\n",
       "  </tbody>\n",
       "</table>\n",
       "</div>"
      ],
      "text/plain": [
       "                                            geometry date_forecast_generated  \\\n",
       "0  POLYGON ((-5400000.001 2800000.000, -5375000.0...              2022-02-12   \n",
       "1  POLYGON ((-5400000.001 2775000.000, -5375000.0...              2022-02-12   \n",
       "2  POLYGON ((-5400000.001 2750000.000, -5375000.0...              2022-02-12   \n",
       "3  POLYGON ((-5400000.001 2700000.000, -5375000.0...              2022-02-12   \n",
       "4  POLYGON ((-5400000.001 2675000.000, -5375000.0...              2022-02-12   \n",
       "\n",
       "  date_forecast_for  sea_ice_concentration_mean  sea_ice_concentration_stddev  \n",
       "0        2022-02-28                5.966070e-07                  6.956920e-07  \n",
       "1        2022-02-28                8.117340e-07                  9.469560e-07  \n",
       "2        2022-02-28                8.662310e-07                  1.076740e-06  \n",
       "3        2022-02-28                9.807390e-07                  1.342920e-06  \n",
       "4        2022-02-28                9.987940e-07                  1.297210e-06  "
      ]
     },
     "execution_count": 10,
     "metadata": {},
     "output_type": "execute_result"
    }
   ],
   "source": [
    "geodata.drop([\"forecast_latest_id\"], axis=1, inplace=True)\n",
    "geodata.to_crs(6931, inplace=True)\n",
    "geodata.head()"
   ]
  },
  {
   "cell_type": "code",
   "execution_count": 11,
   "id": "2803fd22",
   "metadata": {},
   "outputs": [],
   "source": [
    "# Load geometries for all world landmasses (except Antarctica)\n",
    "world = gpd.read_file(gpd.datasets.get_path('naturalearth_lowres'))\n",
    "world = world.loc[world.continent != 'Antarctica']"
   ]
  },
  {
   "cell_type": "code",
   "execution_count": 12,
   "id": "1c42a517",
   "metadata": {},
   "outputs": [],
   "source": [
    "# Define a boundary at a 6000km radius from the North Pole\n",
    "from shapely.geometry import Point\n",
    "boundary = gpd.GeoDataFrame({\"origin\": [Point(0, 0)], \"geometry\": [Point(0, 0).buffer(6000 * 1000)]}, crs=\"EPSG:6931\")"
   ]
  },
  {
   "cell_type": "code",
   "execution_count": 13,
   "id": "8bf64c74",
   "metadata": {},
   "outputs": [],
   "source": [
    "# Intersect landmasses with the boundary\n",
    "world_np = gpd.overlay(world.to_crs(\"EPSG:6931\"), boundary, how='intersection')"
   ]
  },
  {
   "cell_type": "code",
   "execution_count": 14,
   "id": "d51264c7",
   "metadata": {},
   "outputs": [
    {
     "data": {
      "text/plain": [
       "<AxesSubplot:>"
      ]
     },
     "execution_count": 13,
     "metadata": {},
     "output_type": "execute_result"
    },
    {
     "data": {
      "image/png": "[encoded data removed]",
      "text/plain": [
       "<Figure size 864x720 with 2 Axes>"
      ]
     },
     "metadata": {
      "needs_background": "light"
     },
     "output_type": "display_data"
    }
   ],
   "source": [
    "# Plot points on a world map\n",
    "fig, ax = plt.subplots(1, figsize=(12,10))\n",
    "world_np.plot(ax=ax, color=\"lightgray\")\n",
    "geodata.plot(ax=ax, column='sea_ice_concentration_mean', markersize=0.1, legend=True)"
   ]
  },
  {
   "cell_type": "markdown",
   "id": "43e87c6d",
   "metadata": {},
   "source": [
    "You have now succesfully retrieved `IceNet` data from our API and plotted it on a world map. 🎉"
   ]
  }
 ],
 "metadata": {
  "kernelspec": {
   "display_name": "Python 3 (ipykernel)",
   "language": "python",
   "name": "python3"
  },
  "language_info": {
   "codemirror_mode": {
    "name": "ipython",
    "version": 3
   },
   "file_extension": ".py",
   "mimetype": "text/x-python",
   "name": "python",
   "nbconvert_exporter": "python",
   "pygments_lexer": "ipython3",
   "version": "3.9.7"
  }
 },
 "nbformat": 4,
 "nbformat_minor": 5
}
